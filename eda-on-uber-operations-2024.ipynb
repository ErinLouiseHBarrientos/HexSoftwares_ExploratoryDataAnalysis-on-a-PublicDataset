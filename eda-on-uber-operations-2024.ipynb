{
 "cells": [
  {
   "cell_type": "markdown",
   "id": "37413943",
   "metadata": {
    "papermill": {
     "duration": 0.007533,
     "end_time": "2025-08-17T14:51:07.975966",
     "exception": false,
     "start_time": "2025-08-17T14:51:07.968433",
     "status": "completed"
    },
    "tags": []
   },
   "source": [
    "# **IMPORT AND READING DATA**"
   ]
  },
  {
   "cell_type": "code",
   "execution_count": 1,
   "id": "51408af3",
   "metadata": {
    "execution": {
     "iopub.execute_input": "2025-08-17T14:51:07.991529Z",
     "iopub.status.busy": "2025-08-17T14:51:07.991130Z",
     "iopub.status.idle": "2025-08-17T14:51:11.994358Z",
     "shell.execute_reply": "2025-08-17T14:51:11.993397Z"
    },
    "papermill": {
     "duration": 4.012737,
     "end_time": "2025-08-17T14:51:11.996203",
     "exception": false,
     "start_time": "2025-08-17T14:51:07.983466",
     "status": "completed"
    },
    "tags": []
   },
   "outputs": [],
   "source": [
    "import pandas as pd\n",
    "import numpy as np\n",
    "import matplotlib.pylab as plt\n",
    "import seaborn as sns\n",
    "plt.style.use('ggplot')\n",
    "pd.set_option('display.max_columns',None)\n",
    "#pd.set_option('display.max_rows',None)"
   ]
  },
  {
   "cell_type": "code",
   "execution_count": 2,
   "id": "43c16d12",
   "metadata": {
    "execution": {
     "iopub.execute_input": "2025-08-17T14:51:12.011865Z",
     "iopub.status.busy": "2025-08-17T14:51:12.011366Z",
     "iopub.status.idle": "2025-08-17T14:51:13.115839Z",
     "shell.execute_reply": "2025-08-17T14:51:13.114813Z"
    },
    "papermill": {
     "duration": 1.114163,
     "end_time": "2025-08-17T14:51:13.117641",
     "exception": false,
     "start_time": "2025-08-17T14:51:12.003478",
     "status": "completed"
    },
    "tags": []
   },
   "outputs": [],
   "source": [
    "df = pd.read_csv('/kaggle/input/uber-ride-analytics-dashboard/ncr_ride_bookings.csv')"
   ]
  },
  {
   "cell_type": "markdown",
   "id": "91125812",
   "metadata": {
    "papermill": {
     "duration": 0.007076,
     "end_time": "2025-08-17T14:51:13.132870",
     "exception": false,
     "start_time": "2025-08-17T14:51:13.125794",
     "status": "completed"
    },
    "tags": []
   },
   "source": [
    "# **DATA UNDERSTANDING**"
   ]
  },
  {
   "cell_type": "code",
   "execution_count": 3,
   "id": "8b761331",
   "metadata": {
    "execution": {
     "iopub.execute_input": "2025-08-17T14:51:13.147385Z",
     "iopub.status.busy": "2025-08-17T14:51:13.147035Z",
     "iopub.status.idle": "2025-08-17T14:51:13.153580Z",
     "shell.execute_reply": "2025-08-17T14:51:13.152699Z"
    },
    "papermill": {
     "duration": 0.015564,
     "end_time": "2025-08-17T14:51:13.155022",
     "exception": false,
     "start_time": "2025-08-17T14:51:13.139458",
     "status": "completed"
    },
    "tags": []
   },
   "outputs": [
    {
     "data": {
      "text/plain": [
       "(150000, 21)"
      ]
     },
     "execution_count": 3,
     "metadata": {},
     "output_type": "execute_result"
    }
   ],
   "source": [
    "df.shape"
   ]
  },
  {
   "cell_type": "code",
   "execution_count": 4,
   "id": "67ed24d4",
   "metadata": {
    "execution": {
     "iopub.execute_input": "2025-08-17T14:51:13.170000Z",
     "iopub.status.busy": "2025-08-17T14:51:13.169697Z",
     "iopub.status.idle": "2025-08-17T14:51:13.205484Z",
     "shell.execute_reply": "2025-08-17T14:51:13.204372Z"
    },
    "papermill": {
     "duration": 0.04555,
     "end_time": "2025-08-17T14:51:13.207514",
     "exception": false,
     "start_time": "2025-08-17T14:51:13.161964",
     "status": "completed"
    },
    "tags": []
   },
   "outputs": [
    {
     "name": "stderr",
     "output_type": "stream",
     "text": [
      "/usr/local/lib/python3.11/dist-packages/pandas/io/formats/format.py:1458: RuntimeWarning: invalid value encountered in greater\n",
      "  has_large_values = (abs_vals > 1e6).any()\n",
      "/usr/local/lib/python3.11/dist-packages/pandas/io/formats/format.py:1459: RuntimeWarning: invalid value encountered in less\n",
      "  has_small_values = ((abs_vals < 10 ** (-self.digits)) & (abs_vals > 0)).any()\n",
      "/usr/local/lib/python3.11/dist-packages/pandas/io/formats/format.py:1459: RuntimeWarning: invalid value encountered in greater\n",
      "  has_small_values = ((abs_vals < 10 ** (-self.digits)) & (abs_vals > 0)).any()\n"
     ]
    },
    {
     "data": {
      "text/html": [
       "<div>\n",
       "<style scoped>\n",
       "    .dataframe tbody tr th:only-of-type {\n",
       "        vertical-align: middle;\n",
       "    }\n",
       "\n",
       "    .dataframe tbody tr th {\n",
       "        vertical-align: top;\n",
       "    }\n",
       "\n",
       "    .dataframe thead th {\n",
       "        text-align: right;\n",
       "    }\n",
       "</style>\n",
       "<table border=\"1\" class=\"dataframe\">\n",
       "  <thead>\n",
       "    <tr style=\"text-align: right;\">\n",
       "      <th></th>\n",
       "      <th>Date</th>\n",
       "      <th>Time</th>\n",
       "      <th>Booking ID</th>\n",
       "      <th>Booking Status</th>\n",
       "      <th>Customer ID</th>\n",
       "      <th>Vehicle Type</th>\n",
       "      <th>Pickup Location</th>\n",
       "      <th>Drop Location</th>\n",
       "      <th>Avg VTAT</th>\n",
       "      <th>Avg CTAT</th>\n",
       "      <th>Cancelled Rides by Customer</th>\n",
       "      <th>Reason for cancelling by Customer</th>\n",
       "      <th>Cancelled Rides by Driver</th>\n",
       "      <th>Driver Cancellation Reason</th>\n",
       "      <th>Incomplete Rides</th>\n",
       "      <th>Incomplete Rides Reason</th>\n",
       "      <th>Booking Value</th>\n",
       "      <th>Ride Distance</th>\n",
       "      <th>Driver Ratings</th>\n",
       "      <th>Customer Rating</th>\n",
       "      <th>Payment Method</th>\n",
       "    </tr>\n",
       "  </thead>\n",
       "  <tbody>\n",
       "    <tr>\n",
       "      <th>0</th>\n",
       "      <td>2024-03-23</td>\n",
       "      <td>12:29:38</td>\n",
       "      <td>\"CNR5884300\"</td>\n",
       "      <td>No Driver Found</td>\n",
       "      <td>\"CID1982111\"</td>\n",
       "      <td>eBike</td>\n",
       "      <td>Palam Vihar</td>\n",
       "      <td>Jhilmil</td>\n",
       "      <td>NaN</td>\n",
       "      <td>NaN</td>\n",
       "      <td>NaN</td>\n",
       "      <td>NaN</td>\n",
       "      <td>NaN</td>\n",
       "      <td>NaN</td>\n",
       "      <td>NaN</td>\n",
       "      <td>NaN</td>\n",
       "      <td>NaN</td>\n",
       "      <td>NaN</td>\n",
       "      <td>NaN</td>\n",
       "      <td>NaN</td>\n",
       "      <td>NaN</td>\n",
       "    </tr>\n",
       "    <tr>\n",
       "      <th>1</th>\n",
       "      <td>2024-11-29</td>\n",
       "      <td>18:01:39</td>\n",
       "      <td>\"CNR1326809\"</td>\n",
       "      <td>Incomplete</td>\n",
       "      <td>\"CID4604802\"</td>\n",
       "      <td>Go Sedan</td>\n",
       "      <td>Shastri Nagar</td>\n",
       "      <td>Gurgaon Sector 56</td>\n",
       "      <td>4.9</td>\n",
       "      <td>14.0</td>\n",
       "      <td>NaN</td>\n",
       "      <td>NaN</td>\n",
       "      <td>NaN</td>\n",
       "      <td>NaN</td>\n",
       "      <td>1.0</td>\n",
       "      <td>Vehicle Breakdown</td>\n",
       "      <td>237.0</td>\n",
       "      <td>5.73</td>\n",
       "      <td>NaN</td>\n",
       "      <td>NaN</td>\n",
       "      <td>UPI</td>\n",
       "    </tr>\n",
       "    <tr>\n",
       "      <th>2</th>\n",
       "      <td>2024-08-23</td>\n",
       "      <td>08:56:10</td>\n",
       "      <td>\"CNR8494506\"</td>\n",
       "      <td>Completed</td>\n",
       "      <td>\"CID9202816\"</td>\n",
       "      <td>Auto</td>\n",
       "      <td>Khandsa</td>\n",
       "      <td>Malviya Nagar</td>\n",
       "      <td>13.4</td>\n",
       "      <td>25.8</td>\n",
       "      <td>NaN</td>\n",
       "      <td>NaN</td>\n",
       "      <td>NaN</td>\n",
       "      <td>NaN</td>\n",
       "      <td>NaN</td>\n",
       "      <td>NaN</td>\n",
       "      <td>627.0</td>\n",
       "      <td>13.58</td>\n",
       "      <td>4.9</td>\n",
       "      <td>4.9</td>\n",
       "      <td>Debit Card</td>\n",
       "    </tr>\n",
       "    <tr>\n",
       "      <th>3</th>\n",
       "      <td>2024-10-21</td>\n",
       "      <td>17:17:25</td>\n",
       "      <td>\"CNR8906825\"</td>\n",
       "      <td>Completed</td>\n",
       "      <td>\"CID2610914\"</td>\n",
       "      <td>Premier Sedan</td>\n",
       "      <td>Central Secretariat</td>\n",
       "      <td>Inderlok</td>\n",
       "      <td>13.1</td>\n",
       "      <td>28.5</td>\n",
       "      <td>NaN</td>\n",
       "      <td>NaN</td>\n",
       "      <td>NaN</td>\n",
       "      <td>NaN</td>\n",
       "      <td>NaN</td>\n",
       "      <td>NaN</td>\n",
       "      <td>416.0</td>\n",
       "      <td>34.02</td>\n",
       "      <td>4.6</td>\n",
       "      <td>5.0</td>\n",
       "      <td>UPI</td>\n",
       "    </tr>\n",
       "    <tr>\n",
       "      <th>4</th>\n",
       "      <td>2024-09-16</td>\n",
       "      <td>22:08:00</td>\n",
       "      <td>\"CNR1950162\"</td>\n",
       "      <td>Completed</td>\n",
       "      <td>\"CID9933542\"</td>\n",
       "      <td>Bike</td>\n",
       "      <td>Ghitorni Village</td>\n",
       "      <td>Khan Market</td>\n",
       "      <td>5.3</td>\n",
       "      <td>19.6</td>\n",
       "      <td>NaN</td>\n",
       "      <td>NaN</td>\n",
       "      <td>NaN</td>\n",
       "      <td>NaN</td>\n",
       "      <td>NaN</td>\n",
       "      <td>NaN</td>\n",
       "      <td>737.0</td>\n",
       "      <td>48.21</td>\n",
       "      <td>4.1</td>\n",
       "      <td>4.3</td>\n",
       "      <td>UPI</td>\n",
       "    </tr>\n",
       "  </tbody>\n",
       "</table>\n",
       "</div>"
      ],
      "text/plain": [
       "         Date      Time    Booking ID   Booking Status   Customer ID  \\\n",
       "0  2024-03-23  12:29:38  \"CNR5884300\"  No Driver Found  \"CID1982111\"   \n",
       "1  2024-11-29  18:01:39  \"CNR1326809\"       Incomplete  \"CID4604802\"   \n",
       "2  2024-08-23  08:56:10  \"CNR8494506\"        Completed  \"CID9202816\"   \n",
       "3  2024-10-21  17:17:25  \"CNR8906825\"        Completed  \"CID2610914\"   \n",
       "4  2024-09-16  22:08:00  \"CNR1950162\"        Completed  \"CID9933542\"   \n",
       "\n",
       "    Vehicle Type      Pickup Location      Drop Location  Avg VTAT  Avg CTAT  \\\n",
       "0          eBike          Palam Vihar            Jhilmil       NaN       NaN   \n",
       "1       Go Sedan        Shastri Nagar  Gurgaon Sector 56       4.9      14.0   \n",
       "2           Auto              Khandsa      Malviya Nagar      13.4      25.8   \n",
       "3  Premier Sedan  Central Secretariat           Inderlok      13.1      28.5   \n",
       "4           Bike     Ghitorni Village        Khan Market       5.3      19.6   \n",
       "\n",
       "   Cancelled Rides by Customer Reason for cancelling by Customer  \\\n",
       "0                          NaN                               NaN   \n",
       "1                          NaN                               NaN   \n",
       "2                          NaN                               NaN   \n",
       "3                          NaN                               NaN   \n",
       "4                          NaN                               NaN   \n",
       "\n",
       "   Cancelled Rides by Driver Driver Cancellation Reason  Incomplete Rides  \\\n",
       "0                        NaN                        NaN               NaN   \n",
       "1                        NaN                        NaN               1.0   \n",
       "2                        NaN                        NaN               NaN   \n",
       "3                        NaN                        NaN               NaN   \n",
       "4                        NaN                        NaN               NaN   \n",
       "\n",
       "  Incomplete Rides Reason  Booking Value  Ride Distance  Driver Ratings  \\\n",
       "0                     NaN            NaN            NaN             NaN   \n",
       "1       Vehicle Breakdown          237.0           5.73             NaN   \n",
       "2                     NaN          627.0          13.58             4.9   \n",
       "3                     NaN          416.0          34.02             4.6   \n",
       "4                     NaN          737.0          48.21             4.1   \n",
       "\n",
       "   Customer Rating Payment Method  \n",
       "0              NaN            NaN  \n",
       "1              NaN            UPI  \n",
       "2              4.9     Debit Card  \n",
       "3              5.0            UPI  \n",
       "4              4.3            UPI  "
      ]
     },
     "execution_count": 4,
     "metadata": {},
     "output_type": "execute_result"
    }
   ],
   "source": [
    "df.head()"
   ]
  },
  {
   "cell_type": "code",
   "execution_count": 5,
   "id": "5180aca0",
   "metadata": {
    "execution": {
     "iopub.execute_input": "2025-08-17T14:51:13.223201Z",
     "iopub.status.busy": "2025-08-17T14:51:13.222875Z",
     "iopub.status.idle": "2025-08-17T14:51:13.243060Z",
     "shell.execute_reply": "2025-08-17T14:51:13.242093Z"
    },
    "papermill": {
     "duration": 0.029727,
     "end_time": "2025-08-17T14:51:13.244583",
     "exception": false,
     "start_time": "2025-08-17T14:51:13.214856",
     "status": "completed"
    },
    "tags": []
   },
   "outputs": [
    {
     "name": "stderr",
     "output_type": "stream",
     "text": [
      "/usr/local/lib/python3.11/dist-packages/pandas/io/formats/format.py:1458: RuntimeWarning: invalid value encountered in greater\n",
      "  has_large_values = (abs_vals > 1e6).any()\n",
      "/usr/local/lib/python3.11/dist-packages/pandas/io/formats/format.py:1459: RuntimeWarning: invalid value encountered in less\n",
      "  has_small_values = ((abs_vals < 10 ** (-self.digits)) & (abs_vals > 0)).any()\n",
      "/usr/local/lib/python3.11/dist-packages/pandas/io/formats/format.py:1459: RuntimeWarning: invalid value encountered in greater\n",
      "  has_small_values = ((abs_vals < 10 ** (-self.digits)) & (abs_vals > 0)).any()\n"
     ]
    },
    {
     "data": {
      "text/html": [
       "<div>\n",
       "<style scoped>\n",
       "    .dataframe tbody tr th:only-of-type {\n",
       "        vertical-align: middle;\n",
       "    }\n",
       "\n",
       "    .dataframe tbody tr th {\n",
       "        vertical-align: top;\n",
       "    }\n",
       "\n",
       "    .dataframe thead th {\n",
       "        text-align: right;\n",
       "    }\n",
       "</style>\n",
       "<table border=\"1\" class=\"dataframe\">\n",
       "  <thead>\n",
       "    <tr style=\"text-align: right;\">\n",
       "      <th></th>\n",
       "      <th>Date</th>\n",
       "      <th>Time</th>\n",
       "      <th>Booking ID</th>\n",
       "      <th>Booking Status</th>\n",
       "      <th>Customer ID</th>\n",
       "      <th>Vehicle Type</th>\n",
       "      <th>Pickup Location</th>\n",
       "      <th>Drop Location</th>\n",
       "      <th>Avg VTAT</th>\n",
       "      <th>Avg CTAT</th>\n",
       "      <th>Cancelled Rides by Customer</th>\n",
       "      <th>Reason for cancelling by Customer</th>\n",
       "      <th>Cancelled Rides by Driver</th>\n",
       "      <th>Driver Cancellation Reason</th>\n",
       "      <th>Incomplete Rides</th>\n",
       "      <th>Incomplete Rides Reason</th>\n",
       "      <th>Booking Value</th>\n",
       "      <th>Ride Distance</th>\n",
       "      <th>Driver Ratings</th>\n",
       "      <th>Customer Rating</th>\n",
       "      <th>Payment Method</th>\n",
       "    </tr>\n",
       "  </thead>\n",
       "  <tbody>\n",
       "    <tr>\n",
       "      <th>149995</th>\n",
       "      <td>2024-11-11</td>\n",
       "      <td>19:34:01</td>\n",
       "      <td>\"CNR6500631\"</td>\n",
       "      <td>Completed</td>\n",
       "      <td>\"CID4337371\"</td>\n",
       "      <td>Go Mini</td>\n",
       "      <td>MG Road</td>\n",
       "      <td>Ghitorni</td>\n",
       "      <td>10.2</td>\n",
       "      <td>44.4</td>\n",
       "      <td>NaN</td>\n",
       "      <td>NaN</td>\n",
       "      <td>NaN</td>\n",
       "      <td>NaN</td>\n",
       "      <td>NaN</td>\n",
       "      <td>NaN</td>\n",
       "      <td>475.0</td>\n",
       "      <td>40.08</td>\n",
       "      <td>3.7</td>\n",
       "      <td>4.1</td>\n",
       "      <td>Uber Wallet</td>\n",
       "    </tr>\n",
       "    <tr>\n",
       "      <th>149996</th>\n",
       "      <td>2024-11-24</td>\n",
       "      <td>15:55:09</td>\n",
       "      <td>\"CNR2468611\"</td>\n",
       "      <td>Completed</td>\n",
       "      <td>\"CID2325623\"</td>\n",
       "      <td>Go Mini</td>\n",
       "      <td>Golf Course Road</td>\n",
       "      <td>Akshardham</td>\n",
       "      <td>5.1</td>\n",
       "      <td>30.8</td>\n",
       "      <td>NaN</td>\n",
       "      <td>NaN</td>\n",
       "      <td>NaN</td>\n",
       "      <td>NaN</td>\n",
       "      <td>NaN</td>\n",
       "      <td>NaN</td>\n",
       "      <td>1093.0</td>\n",
       "      <td>21.31</td>\n",
       "      <td>4.8</td>\n",
       "      <td>5.0</td>\n",
       "      <td>UPI</td>\n",
       "    </tr>\n",
       "    <tr>\n",
       "      <th>149997</th>\n",
       "      <td>2024-09-18</td>\n",
       "      <td>10:55:15</td>\n",
       "      <td>\"CNR6358306\"</td>\n",
       "      <td>Completed</td>\n",
       "      <td>\"CID9925486\"</td>\n",
       "      <td>Go Sedan</td>\n",
       "      <td>Satguru Ram Singh Marg</td>\n",
       "      <td>Jor Bagh</td>\n",
       "      <td>2.7</td>\n",
       "      <td>23.4</td>\n",
       "      <td>NaN</td>\n",
       "      <td>NaN</td>\n",
       "      <td>NaN</td>\n",
       "      <td>NaN</td>\n",
       "      <td>NaN</td>\n",
       "      <td>NaN</td>\n",
       "      <td>852.0</td>\n",
       "      <td>15.93</td>\n",
       "      <td>3.9</td>\n",
       "      <td>4.4</td>\n",
       "      <td>Cash</td>\n",
       "    </tr>\n",
       "    <tr>\n",
       "      <th>149998</th>\n",
       "      <td>2024-10-05</td>\n",
       "      <td>07:53:34</td>\n",
       "      <td>\"CNR3030099\"</td>\n",
       "      <td>Completed</td>\n",
       "      <td>\"CID9415487\"</td>\n",
       "      <td>Auto</td>\n",
       "      <td>Ghaziabad</td>\n",
       "      <td>Saidulajab</td>\n",
       "      <td>6.9</td>\n",
       "      <td>39.6</td>\n",
       "      <td>NaN</td>\n",
       "      <td>NaN</td>\n",
       "      <td>NaN</td>\n",
       "      <td>NaN</td>\n",
       "      <td>NaN</td>\n",
       "      <td>NaN</td>\n",
       "      <td>333.0</td>\n",
       "      <td>45.54</td>\n",
       "      <td>4.1</td>\n",
       "      <td>3.7</td>\n",
       "      <td>UPI</td>\n",
       "    </tr>\n",
       "    <tr>\n",
       "      <th>149999</th>\n",
       "      <td>2024-03-10</td>\n",
       "      <td>15:38:03</td>\n",
       "      <td>\"CNR3447390\"</td>\n",
       "      <td>Completed</td>\n",
       "      <td>\"CID4108667\"</td>\n",
       "      <td>Premier Sedan</td>\n",
       "      <td>Ashok Park Main</td>\n",
       "      <td>Gurgaon Sector 29</td>\n",
       "      <td>3.5</td>\n",
       "      <td>33.7</td>\n",
       "      <td>NaN</td>\n",
       "      <td>NaN</td>\n",
       "      <td>NaN</td>\n",
       "      <td>NaN</td>\n",
       "      <td>NaN</td>\n",
       "      <td>NaN</td>\n",
       "      <td>806.0</td>\n",
       "      <td>21.19</td>\n",
       "      <td>4.6</td>\n",
       "      <td>4.9</td>\n",
       "      <td>Credit Card</td>\n",
       "    </tr>\n",
       "  </tbody>\n",
       "</table>\n",
       "</div>"
      ],
      "text/plain": [
       "              Date      Time    Booking ID Booking Status   Customer ID  \\\n",
       "149995  2024-11-11  19:34:01  \"CNR6500631\"      Completed  \"CID4337371\"   \n",
       "149996  2024-11-24  15:55:09  \"CNR2468611\"      Completed  \"CID2325623\"   \n",
       "149997  2024-09-18  10:55:15  \"CNR6358306\"      Completed  \"CID9925486\"   \n",
       "149998  2024-10-05  07:53:34  \"CNR3030099\"      Completed  \"CID9415487\"   \n",
       "149999  2024-03-10  15:38:03  \"CNR3447390\"      Completed  \"CID4108667\"   \n",
       "\n",
       "         Vehicle Type         Pickup Location      Drop Location  Avg VTAT  \\\n",
       "149995        Go Mini                 MG Road           Ghitorni      10.2   \n",
       "149996        Go Mini        Golf Course Road         Akshardham       5.1   \n",
       "149997       Go Sedan  Satguru Ram Singh Marg           Jor Bagh       2.7   \n",
       "149998           Auto               Ghaziabad         Saidulajab       6.9   \n",
       "149999  Premier Sedan         Ashok Park Main  Gurgaon Sector 29       3.5   \n",
       "\n",
       "        Avg CTAT  Cancelled Rides by Customer  \\\n",
       "149995      44.4                          NaN   \n",
       "149996      30.8                          NaN   \n",
       "149997      23.4                          NaN   \n",
       "149998      39.6                          NaN   \n",
       "149999      33.7                          NaN   \n",
       "\n",
       "       Reason for cancelling by Customer  Cancelled Rides by Driver  \\\n",
       "149995                               NaN                        NaN   \n",
       "149996                               NaN                        NaN   \n",
       "149997                               NaN                        NaN   \n",
       "149998                               NaN                        NaN   \n",
       "149999                               NaN                        NaN   \n",
       "\n",
       "       Driver Cancellation Reason  Incomplete Rides Incomplete Rides Reason  \\\n",
       "149995                        NaN               NaN                     NaN   \n",
       "149996                        NaN               NaN                     NaN   \n",
       "149997                        NaN               NaN                     NaN   \n",
       "149998                        NaN               NaN                     NaN   \n",
       "149999                        NaN               NaN                     NaN   \n",
       "\n",
       "        Booking Value  Ride Distance  Driver Ratings  Customer Rating  \\\n",
       "149995          475.0          40.08             3.7              4.1   \n",
       "149996         1093.0          21.31             4.8              5.0   \n",
       "149997          852.0          15.93             3.9              4.4   \n",
       "149998          333.0          45.54             4.1              3.7   \n",
       "149999          806.0          21.19             4.6              4.9   \n",
       "\n",
       "       Payment Method  \n",
       "149995    Uber Wallet  \n",
       "149996            UPI  \n",
       "149997           Cash  \n",
       "149998            UPI  \n",
       "149999    Credit Card  "
      ]
     },
     "execution_count": 5,
     "metadata": {},
     "output_type": "execute_result"
    }
   ],
   "source": [
    "df.tail(5)"
   ]
  },
  {
   "cell_type": "code",
   "execution_count": 6,
   "id": "979ed5ca",
   "metadata": {
    "execution": {
     "iopub.execute_input": "2025-08-17T14:51:13.261381Z",
     "iopub.status.busy": "2025-08-17T14:51:13.261010Z",
     "iopub.status.idle": "2025-08-17T14:51:13.268168Z",
     "shell.execute_reply": "2025-08-17T14:51:13.267258Z"
    },
    "papermill": {
     "duration": 0.017436,
     "end_time": "2025-08-17T14:51:13.269718",
     "exception": false,
     "start_time": "2025-08-17T14:51:13.252282",
     "status": "completed"
    },
    "tags": []
   },
   "outputs": [
    {
     "data": {
      "text/plain": [
       "Index(['Date', 'Time', 'Booking ID', 'Booking Status', 'Customer ID',\n",
       "       'Vehicle Type', 'Pickup Location', 'Drop Location', 'Avg VTAT',\n",
       "       'Avg CTAT', 'Cancelled Rides by Customer',\n",
       "       'Reason for cancelling by Customer', 'Cancelled Rides by Driver',\n",
       "       'Driver Cancellation Reason', 'Incomplete Rides',\n",
       "       'Incomplete Rides Reason', 'Booking Value', 'Ride Distance',\n",
       "       'Driver Ratings', 'Customer Rating', 'Payment Method'],\n",
       "      dtype='object')"
      ]
     },
     "execution_count": 6,
     "metadata": {},
     "output_type": "execute_result"
    }
   ],
   "source": [
    "df.columns"
   ]
  },
  {
   "cell_type": "code",
   "execution_count": 7,
   "id": "4cea8130",
   "metadata": {
    "execution": {
     "iopub.execute_input": "2025-08-17T14:51:13.286169Z",
     "iopub.status.busy": "2025-08-17T14:51:13.285828Z",
     "iopub.status.idle": "2025-08-17T14:51:13.292856Z",
     "shell.execute_reply": "2025-08-17T14:51:13.292115Z"
    },
    "papermill": {
     "duration": 0.016864,
     "end_time": "2025-08-17T14:51:13.294272",
     "exception": false,
     "start_time": "2025-08-17T14:51:13.277408",
     "status": "completed"
    },
    "tags": []
   },
   "outputs": [
    {
     "data": {
      "text/plain": [
       "Date                                  object\n",
       "Time                                  object\n",
       "Booking ID                            object\n",
       "Booking Status                        object\n",
       "Customer ID                           object\n",
       "Vehicle Type                          object\n",
       "Pickup Location                       object\n",
       "Drop Location                         object\n",
       "Avg VTAT                             float64\n",
       "Avg CTAT                             float64\n",
       "Cancelled Rides by Customer          float64\n",
       "Reason for cancelling by Customer     object\n",
       "Cancelled Rides by Driver            float64\n",
       "Driver Cancellation Reason            object\n",
       "Incomplete Rides                     float64\n",
       "Incomplete Rides Reason               object\n",
       "Booking Value                        float64\n",
       "Ride Distance                        float64\n",
       "Driver Ratings                       float64\n",
       "Customer Rating                      float64\n",
       "Payment Method                        object\n",
       "dtype: object"
      ]
     },
     "execution_count": 7,
     "metadata": {},
     "output_type": "execute_result"
    }
   ],
   "source": [
    "df.dtypes"
   ]
  },
  {
   "cell_type": "code",
   "execution_count": 8,
   "id": "4c6bb40c",
   "metadata": {
    "execution": {
     "iopub.execute_input": "2025-08-17T14:51:13.311526Z",
     "iopub.status.busy": "2025-08-17T14:51:13.311178Z",
     "iopub.status.idle": "2025-08-17T14:51:13.427145Z",
     "shell.execute_reply": "2025-08-17T14:51:13.426143Z"
    },
    "papermill": {
     "duration": 0.126624,
     "end_time": "2025-08-17T14:51:13.428701",
     "exception": false,
     "start_time": "2025-08-17T14:51:13.302077",
     "status": "completed"
    },
    "tags": []
   },
   "outputs": [
    {
     "data": {
      "text/html": [
       "<div>\n",
       "<style scoped>\n",
       "    .dataframe tbody tr th:only-of-type {\n",
       "        vertical-align: middle;\n",
       "    }\n",
       "\n",
       "    .dataframe tbody tr th {\n",
       "        vertical-align: top;\n",
       "    }\n",
       "\n",
       "    .dataframe thead th {\n",
       "        text-align: right;\n",
       "    }\n",
       "</style>\n",
       "<table border=\"1\" class=\"dataframe\">\n",
       "  <thead>\n",
       "    <tr style=\"text-align: right;\">\n",
       "      <th></th>\n",
       "      <th>Avg VTAT</th>\n",
       "      <th>Avg CTAT</th>\n",
       "      <th>Cancelled Rides by Customer</th>\n",
       "      <th>Cancelled Rides by Driver</th>\n",
       "      <th>Incomplete Rides</th>\n",
       "      <th>Booking Value</th>\n",
       "      <th>Ride Distance</th>\n",
       "      <th>Driver Ratings</th>\n",
       "      <th>Customer Rating</th>\n",
       "    </tr>\n",
       "  </thead>\n",
       "  <tbody>\n",
       "    <tr>\n",
       "      <th>count</th>\n",
       "      <td>139500.000000</td>\n",
       "      <td>102000.000000</td>\n",
       "      <td>10500.0</td>\n",
       "      <td>27000.0</td>\n",
       "      <td>9000.0</td>\n",
       "      <td>102000.000000</td>\n",
       "      <td>102000.000000</td>\n",
       "      <td>93000.000000</td>\n",
       "      <td>93000.000000</td>\n",
       "    </tr>\n",
       "    <tr>\n",
       "      <th>mean</th>\n",
       "      <td>8.456352</td>\n",
       "      <td>29.149636</td>\n",
       "      <td>1.0</td>\n",
       "      <td>1.0</td>\n",
       "      <td>1.0</td>\n",
       "      <td>508.295912</td>\n",
       "      <td>24.637012</td>\n",
       "      <td>4.230992</td>\n",
       "      <td>4.404584</td>\n",
       "    </tr>\n",
       "    <tr>\n",
       "      <th>std</th>\n",
       "      <td>3.773564</td>\n",
       "      <td>8.902577</td>\n",
       "      <td>0.0</td>\n",
       "      <td>0.0</td>\n",
       "      <td>0.0</td>\n",
       "      <td>395.805774</td>\n",
       "      <td>14.002138</td>\n",
       "      <td>0.436871</td>\n",
       "      <td>0.437819</td>\n",
       "    </tr>\n",
       "    <tr>\n",
       "      <th>min</th>\n",
       "      <td>2.000000</td>\n",
       "      <td>10.000000</td>\n",
       "      <td>1.0</td>\n",
       "      <td>1.0</td>\n",
       "      <td>1.0</td>\n",
       "      <td>50.000000</td>\n",
       "      <td>1.000000</td>\n",
       "      <td>3.000000</td>\n",
       "      <td>3.000000</td>\n",
       "    </tr>\n",
       "    <tr>\n",
       "      <th>25%</th>\n",
       "      <td>5.300000</td>\n",
       "      <td>21.600000</td>\n",
       "      <td>1.0</td>\n",
       "      <td>1.0</td>\n",
       "      <td>1.0</td>\n",
       "      <td>234.000000</td>\n",
       "      <td>12.460000</td>\n",
       "      <td>4.100000</td>\n",
       "      <td>4.200000</td>\n",
       "    </tr>\n",
       "    <tr>\n",
       "      <th>50%</th>\n",
       "      <td>8.300000</td>\n",
       "      <td>28.800000</td>\n",
       "      <td>1.0</td>\n",
       "      <td>1.0</td>\n",
       "      <td>1.0</td>\n",
       "      <td>414.000000</td>\n",
       "      <td>23.720000</td>\n",
       "      <td>4.300000</td>\n",
       "      <td>4.500000</td>\n",
       "    </tr>\n",
       "    <tr>\n",
       "      <th>75%</th>\n",
       "      <td>11.300000</td>\n",
       "      <td>36.800000</td>\n",
       "      <td>1.0</td>\n",
       "      <td>1.0</td>\n",
       "      <td>1.0</td>\n",
       "      <td>689.000000</td>\n",
       "      <td>36.820000</td>\n",
       "      <td>4.600000</td>\n",
       "      <td>4.800000</td>\n",
       "    </tr>\n",
       "    <tr>\n",
       "      <th>max</th>\n",
       "      <td>20.000000</td>\n",
       "      <td>45.000000</td>\n",
       "      <td>1.0</td>\n",
       "      <td>1.0</td>\n",
       "      <td>1.0</td>\n",
       "      <td>4277.000000</td>\n",
       "      <td>50.000000</td>\n",
       "      <td>5.000000</td>\n",
       "      <td>5.000000</td>\n",
       "    </tr>\n",
       "  </tbody>\n",
       "</table>\n",
       "</div>"
      ],
      "text/plain": [
       "            Avg VTAT       Avg CTAT  Cancelled Rides by Customer  \\\n",
       "count  139500.000000  102000.000000                      10500.0   \n",
       "mean        8.456352      29.149636                          1.0   \n",
       "std         3.773564       8.902577                          0.0   \n",
       "min         2.000000      10.000000                          1.0   \n",
       "25%         5.300000      21.600000                          1.0   \n",
       "50%         8.300000      28.800000                          1.0   \n",
       "75%        11.300000      36.800000                          1.0   \n",
       "max        20.000000      45.000000                          1.0   \n",
       "\n",
       "       Cancelled Rides by Driver  Incomplete Rides  Booking Value  \\\n",
       "count                    27000.0            9000.0  102000.000000   \n",
       "mean                         1.0               1.0     508.295912   \n",
       "std                          0.0               0.0     395.805774   \n",
       "min                          1.0               1.0      50.000000   \n",
       "25%                          1.0               1.0     234.000000   \n",
       "50%                          1.0               1.0     414.000000   \n",
       "75%                          1.0               1.0     689.000000   \n",
       "max                          1.0               1.0    4277.000000   \n",
       "\n",
       "       Ride Distance  Driver Ratings  Customer Rating  \n",
       "count  102000.000000    93000.000000     93000.000000  \n",
       "mean       24.637012        4.230992         4.404584  \n",
       "std        14.002138        0.436871         0.437819  \n",
       "min         1.000000        3.000000         3.000000  \n",
       "25%        12.460000        4.100000         4.200000  \n",
       "50%        23.720000        4.300000         4.500000  \n",
       "75%        36.820000        4.600000         4.800000  \n",
       "max        50.000000        5.000000         5.000000  "
      ]
     },
     "execution_count": 8,
     "metadata": {},
     "output_type": "execute_result"
    }
   ],
   "source": [
    "df.describe()"
   ]
  },
  {
   "cell_type": "markdown",
   "id": "8777fc1f",
   "metadata": {
    "papermill": {
     "duration": 0.007752,
     "end_time": "2025-08-17T14:51:13.444611",
     "exception": false,
     "start_time": "2025-08-17T14:51:13.436859",
     "status": "completed"
    },
    "tags": []
   },
   "source": [
    "# **DATA PREPARATION**"
   ]
  },
  {
   "cell_type": "code",
   "execution_count": 9,
   "id": "82c1ac66",
   "metadata": {
    "execution": {
     "iopub.execute_input": "2025-08-17T14:51:13.462040Z",
     "iopub.status.busy": "2025-08-17T14:51:13.461088Z",
     "iopub.status.idle": "2025-08-17T14:51:13.467712Z",
     "shell.execute_reply": "2025-08-17T14:51:13.466686Z"
    },
    "papermill": {
     "duration": 0.016959,
     "end_time": "2025-08-17T14:51:13.469460",
     "exception": false,
     "start_time": "2025-08-17T14:51:13.452501",
     "status": "completed"
    },
    "tags": []
   },
   "outputs": [
    {
     "data": {
      "text/plain": [
       "Index(['Date', 'Time', 'Booking ID', 'Booking Status', 'Customer ID',\n",
       "       'Vehicle Type', 'Pickup Location', 'Drop Location', 'Avg VTAT',\n",
       "       'Avg CTAT', 'Cancelled Rides by Customer',\n",
       "       'Reason for cancelling by Customer', 'Cancelled Rides by Driver',\n",
       "       'Driver Cancellation Reason', 'Incomplete Rides',\n",
       "       'Incomplete Rides Reason', 'Booking Value', 'Ride Distance',\n",
       "       'Driver Ratings', 'Customer Rating', 'Payment Method'],\n",
       "      dtype='object')"
      ]
     },
     "execution_count": 9,
     "metadata": {},
     "output_type": "execute_result"
    }
   ],
   "source": [
    "df.columns"
   ]
  },
  {
   "cell_type": "code",
   "execution_count": 10,
   "id": "50dbeb95",
   "metadata": {
    "execution": {
     "iopub.execute_input": "2025-08-17T14:51:13.486677Z",
     "iopub.status.busy": "2025-08-17T14:51:13.486371Z",
     "iopub.status.idle": "2025-08-17T14:51:13.515599Z",
     "shell.execute_reply": "2025-08-17T14:51:13.514590Z"
    },
    "papermill": {
     "duration": 0.039619,
     "end_time": "2025-08-17T14:51:13.517261",
     "exception": false,
     "start_time": "2025-08-17T14:51:13.477642",
     "status": "completed"
    },
    "tags": []
   },
   "outputs": [],
   "source": [
    "df = df[[ 'Date', \n",
    "          #'Time', \n",
    "          #'Booking ID', 'Booking Status', \n",
    "          #'Customer ID',\n",
    "          #'Vehicle Type', \n",
    "          #'Pickup Location', 'Drop Location', \n",
    "          'Avg VTAT', 'Avg CTAT', \n",
    "          'Cancelled Rides by Customer', 'Reason for cancelling by Customer', \n",
    "          'Cancelled Rides by Driver', 'Driver Cancellation Reason', \n",
    "          'Incomplete Rides', 'Incomplete Rides Reason', \n",
    "          'Booking Value', 'Ride Distance',\n",
    "          'Driver Ratings', 'Customer Rating', \n",
    "          #'Payment Method'\n",
    "        ]].copy()"
   ]
  },
  {
   "cell_type": "code",
   "execution_count": 11,
   "id": "111cdfa1",
   "metadata": {
    "execution": {
     "iopub.execute_input": "2025-08-17T14:51:13.534645Z",
     "iopub.status.busy": "2025-08-17T14:51:13.534368Z",
     "iopub.status.idle": "2025-08-17T14:51:13.539841Z",
     "shell.execute_reply": "2025-08-17T14:51:13.538939Z"
    },
    "papermill": {
     "duration": 0.016255,
     "end_time": "2025-08-17T14:51:13.541524",
     "exception": false,
     "start_time": "2025-08-17T14:51:13.525269",
     "status": "completed"
    },
    "tags": []
   },
   "outputs": [
    {
     "data": {
      "text/plain": [
       "(150000, 13)"
      ]
     },
     "execution_count": 11,
     "metadata": {},
     "output_type": "execute_result"
    }
   ],
   "source": [
    "df.shape"
   ]
  },
  {
   "cell_type": "code",
   "execution_count": 12,
   "id": "0d8289c0",
   "metadata": {
    "execution": {
     "iopub.execute_input": "2025-08-17T14:51:13.559104Z",
     "iopub.status.busy": "2025-08-17T14:51:13.558783Z",
     "iopub.status.idle": "2025-08-17T14:51:13.590463Z",
     "shell.execute_reply": "2025-08-17T14:51:13.589462Z"
    },
    "papermill": {
     "duration": 0.042417,
     "end_time": "2025-08-17T14:51:13.592317",
     "exception": false,
     "start_time": "2025-08-17T14:51:13.549900",
     "status": "completed"
    },
    "tags": []
   },
   "outputs": [],
   "source": [
    "df['Date'] = pd.to_datetime(df['Date'])"
   ]
  },
  {
   "cell_type": "code",
   "execution_count": 13,
   "id": "41a1cc44",
   "metadata": {
    "execution": {
     "iopub.execute_input": "2025-08-17T14:51:13.609955Z",
     "iopub.status.busy": "2025-08-17T14:51:13.609592Z",
     "iopub.status.idle": "2025-08-17T14:51:13.617700Z",
     "shell.execute_reply": "2025-08-17T14:51:13.616826Z"
    },
    "papermill": {
     "duration": 0.018736,
     "end_time": "2025-08-17T14:51:13.619322",
     "exception": false,
     "start_time": "2025-08-17T14:51:13.600586",
     "status": "completed"
    },
    "tags": []
   },
   "outputs": [
    {
     "data": {
      "text/plain": [
       "Date                                 datetime64[ns]\n",
       "Avg VTAT                                    float64\n",
       "Avg CTAT                                    float64\n",
       "Cancelled Rides by Customer                 float64\n",
       "Reason for cancelling by Customer            object\n",
       "Cancelled Rides by Driver                   float64\n",
       "Driver Cancellation Reason                   object\n",
       "Incomplete Rides                            float64\n",
       "Incomplete Rides Reason                      object\n",
       "Booking Value                               float64\n",
       "Ride Distance                               float64\n",
       "Driver Ratings                              float64\n",
       "Customer Rating                             float64\n",
       "dtype: object"
      ]
     },
     "execution_count": 13,
     "metadata": {},
     "output_type": "execute_result"
    }
   ],
   "source": [
    "df.dtypes"
   ]
  },
  {
   "cell_type": "code",
   "execution_count": 14,
   "id": "0d698d46",
   "metadata": {
    "execution": {
     "iopub.execute_input": "2025-08-17T14:51:13.705705Z",
     "iopub.status.busy": "2025-08-17T14:51:13.705427Z",
     "iopub.status.idle": "2025-08-17T14:51:13.742455Z",
     "shell.execute_reply": "2025-08-17T14:51:13.741481Z"
    },
    "papermill": {
     "duration": 0.048036,
     "end_time": "2025-08-17T14:51:13.744419",
     "exception": false,
     "start_time": "2025-08-17T14:51:13.696383",
     "status": "completed"
    },
    "tags": []
   },
   "outputs": [
    {
     "data": {
      "text/plain": [
       "Date                                      0\n",
       "Avg VTAT                              10500\n",
       "Avg CTAT                              48000\n",
       "Cancelled Rides by Customer          139500\n",
       "Reason for cancelling by Customer    139500\n",
       "Cancelled Rides by Driver            123000\n",
       "Driver Cancellation Reason           123000\n",
       "Incomplete Rides                     141000\n",
       "Incomplete Rides Reason              141000\n",
       "Booking Value                         48000\n",
       "Ride Distance                         48000\n",
       "Driver Ratings                        57000\n",
       "Customer Rating                       57000\n",
       "dtype: int64"
      ]
     },
     "execution_count": 14,
     "metadata": {},
     "output_type": "execute_result"
    }
   ],
   "source": [
    "df.isna().sum()"
   ]
  },
  {
   "cell_type": "code",
   "execution_count": 15,
   "id": "d1d99cd0",
   "metadata": {
    "execution": {
     "iopub.execute_input": "2025-08-17T14:51:13.763219Z",
     "iopub.status.busy": "2025-08-17T14:51:13.762886Z",
     "iopub.status.idle": "2025-08-17T14:51:13.846999Z",
     "shell.execute_reply": "2025-08-17T14:51:13.846103Z"
    },
    "papermill": {
     "duration": 0.095899,
     "end_time": "2025-08-17T14:51:13.848907",
     "exception": false,
     "start_time": "2025-08-17T14:51:13.753008",
     "status": "completed"
    },
    "tags": []
   },
   "outputs": [
    {
     "data": {
      "text/plain": [
       "12878"
      ]
     },
     "execution_count": 15,
     "metadata": {},
     "output_type": "execute_result"
    }
   ],
   "source": [
    "df.duplicated().sum()"
   ]
  },
  {
   "cell_type": "code",
   "execution_count": 16,
   "id": "cae0e467",
   "metadata": {
    "execution": {
     "iopub.execute_input": "2025-08-17T14:51:13.867392Z",
     "iopub.status.busy": "2025-08-17T14:51:13.867023Z",
     "iopub.status.idle": "2025-08-17T14:51:13.966780Z",
     "shell.execute_reply": "2025-08-17T14:51:13.965698Z"
    },
    "papermill": {
     "duration": 0.111184,
     "end_time": "2025-08-17T14:51:13.968888",
     "exception": false,
     "start_time": "2025-08-17T14:51:13.857704",
     "status": "completed"
    },
    "tags": []
   },
   "outputs": [],
   "source": [
    "df.drop_duplicates(inplace=True)"
   ]
  },
  {
   "cell_type": "code",
   "execution_count": 17,
   "id": "7705b9a7",
   "metadata": {
    "execution": {
     "iopub.execute_input": "2025-08-17T14:51:13.987355Z",
     "iopub.status.busy": "2025-08-17T14:51:13.986994Z",
     "iopub.status.idle": "2025-08-17T14:51:14.056155Z",
     "shell.execute_reply": "2025-08-17T14:51:14.055234Z"
    },
    "papermill": {
     "duration": 0.080254,
     "end_time": "2025-08-17T14:51:14.057941",
     "exception": false,
     "start_time": "2025-08-17T14:51:13.977687",
     "status": "completed"
    },
    "tags": []
   },
   "outputs": [
    {
     "data": {
      "text/plain": [
       "0"
      ]
     },
     "execution_count": 17,
     "metadata": {},
     "output_type": "execute_result"
    }
   ],
   "source": [
    "df.duplicated().sum()"
   ]
  },
  {
   "cell_type": "code",
   "execution_count": 18,
   "id": "72947271",
   "metadata": {
    "execution": {
     "iopub.execute_input": "2025-08-17T14:51:14.077905Z",
     "iopub.status.busy": "2025-08-17T14:51:14.077595Z",
     "iopub.status.idle": "2025-08-17T14:51:14.140263Z",
     "shell.execute_reply": "2025-08-17T14:51:14.139181Z"
    },
    "papermill": {
     "duration": 0.075478,
     "end_time": "2025-08-17T14:51:14.142036",
     "exception": false,
     "start_time": "2025-08-17T14:51:14.066558",
     "status": "completed"
    },
    "tags": []
   },
   "outputs": [
    {
     "data": {
      "text/html": [
       "<div>\n",
       "<style scoped>\n",
       "    .dataframe tbody tr th:only-of-type {\n",
       "        vertical-align: middle;\n",
       "    }\n",
       "\n",
       "    .dataframe tbody tr th {\n",
       "        vertical-align: top;\n",
       "    }\n",
       "\n",
       "    .dataframe thead th {\n",
       "        text-align: right;\n",
       "    }\n",
       "</style>\n",
       "<table border=\"1\" class=\"dataframe\">\n",
       "  <thead>\n",
       "    <tr style=\"text-align: right;\">\n",
       "      <th></th>\n",
       "      <th>Date</th>\n",
       "      <th>Avg VTAT</th>\n",
       "      <th>Avg CTAT</th>\n",
       "      <th>Cancelled Rides by Customer</th>\n",
       "      <th>Reason for cancelling by Customer</th>\n",
       "      <th>Cancelled Rides by Driver</th>\n",
       "      <th>Driver Cancellation Reason</th>\n",
       "      <th>Incomplete Rides</th>\n",
       "      <th>Incomplete Rides Reason</th>\n",
       "      <th>Booking Value</th>\n",
       "      <th>Ride Distance</th>\n",
       "      <th>Driver Ratings</th>\n",
       "      <th>Customer Rating</th>\n",
       "    </tr>\n",
       "  </thead>\n",
       "  <tbody>\n",
       "  </tbody>\n",
       "</table>\n",
       "</div>"
      ],
      "text/plain": [
       "Empty DataFrame\n",
       "Columns: [Date, Avg VTAT, Avg CTAT, Cancelled Rides by Customer, Reason for cancelling by Customer, Cancelled Rides by Driver, Driver Cancellation Reason, Incomplete Rides, Incomplete Rides Reason, Booking Value, Ride Distance, Driver Ratings, Customer Rating]\n",
       "Index: []"
      ]
     },
     "execution_count": 18,
     "metadata": {},
     "output_type": "execute_result"
    }
   ],
   "source": [
    "df.loc[df.duplicated()]"
   ]
  },
  {
   "cell_type": "code",
   "execution_count": 19,
   "id": "07787fda",
   "metadata": {
    "execution": {
     "iopub.execute_input": "2025-08-17T14:51:14.160857Z",
     "iopub.status.busy": "2025-08-17T14:51:14.160580Z",
     "iopub.status.idle": "2025-08-17T14:51:14.195353Z",
     "shell.execute_reply": "2025-08-17T14:51:14.194503Z"
    },
    "papermill": {
     "duration": 0.045746,
     "end_time": "2025-08-17T14:51:14.196991",
     "exception": false,
     "start_time": "2025-08-17T14:51:14.151245",
     "status": "completed"
    },
    "tags": []
   },
   "outputs": [
    {
     "data": {
      "text/plain": [
       "Date                                  365\n",
       "Avg VTAT                              181\n",
       "Avg CTAT                              351\n",
       "Cancelled Rides by Customer             1\n",
       "Reason for cancelling by Customer       5\n",
       "Cancelled Rides by Driver               1\n",
       "Driver Cancellation Reason              4\n",
       "Incomplete Rides                        1\n",
       "Incomplete Rides Reason                 3\n",
       "Booking Value                        2566\n",
       "Ride Distance                        4901\n",
       "Driver Ratings                         21\n",
       "Customer Rating                        21\n",
       "dtype: int64"
      ]
     },
     "execution_count": 19,
     "metadata": {},
     "output_type": "execute_result"
    }
   ],
   "source": [
    "df.nunique()"
   ]
  },
  {
   "cell_type": "code",
   "execution_count": 20,
   "id": "e62611bf",
   "metadata": {
    "execution": {
     "iopub.execute_input": "2025-08-17T14:51:14.215850Z",
     "iopub.status.busy": "2025-08-17T14:51:14.215550Z",
     "iopub.status.idle": "2025-08-17T14:51:14.222324Z",
     "shell.execute_reply": "2025-08-17T14:51:14.221371Z"
    },
    "papermill": {
     "duration": 0.018178,
     "end_time": "2025-08-17T14:51:14.224028",
     "exception": false,
     "start_time": "2025-08-17T14:51:14.205850",
     "status": "completed"
    },
    "tags": []
   },
   "outputs": [
    {
     "data": {
      "text/plain": [
       "Index(['Date', 'Avg VTAT', 'Avg CTAT', 'Cancelled Rides by Customer',\n",
       "       'Reason for cancelling by Customer', 'Cancelled Rides by Driver',\n",
       "       'Driver Cancellation Reason', 'Incomplete Rides',\n",
       "       'Incomplete Rides Reason', 'Booking Value', 'Ride Distance',\n",
       "       'Driver Ratings', 'Customer Rating'],\n",
       "      dtype='object')"
      ]
     },
     "execution_count": 20,
     "metadata": {},
     "output_type": "execute_result"
    }
   ],
   "source": [
    "df.columns"
   ]
  },
  {
   "cell_type": "code",
   "execution_count": 21,
   "id": "2aa2ed73",
   "metadata": {
    "execution": {
     "iopub.execute_input": "2025-08-17T14:51:14.245165Z",
     "iopub.status.busy": "2025-08-17T14:51:14.244827Z",
     "iopub.status.idle": "2025-08-17T14:51:14.299887Z",
     "shell.execute_reply": "2025-08-17T14:51:14.298944Z"
    },
    "papermill": {
     "duration": 0.0677,
     "end_time": "2025-08-17T14:51:14.301530",
     "exception": false,
     "start_time": "2025-08-17T14:51:14.233830",
     "status": "completed"
    },
    "tags": []
   },
   "outputs": [
    {
     "name": "stderr",
     "output_type": "stream",
     "text": [
      "/usr/local/lib/python3.11/dist-packages/pandas/io/formats/format.py:1458: RuntimeWarning: invalid value encountered in greater\n",
      "  has_large_values = (abs_vals > 1e6).any()\n",
      "/usr/local/lib/python3.11/dist-packages/pandas/io/formats/format.py:1459: RuntimeWarning: invalid value encountered in less\n",
      "  has_small_values = ((abs_vals < 10 ** (-self.digits)) & (abs_vals > 0)).any()\n",
      "/usr/local/lib/python3.11/dist-packages/pandas/io/formats/format.py:1459: RuntimeWarning: invalid value encountered in greater\n",
      "  has_small_values = ((abs_vals < 10 ** (-self.digits)) & (abs_vals > 0)).any()\n"
     ]
    },
    {
     "data": {
      "text/html": [
       "<div>\n",
       "<style scoped>\n",
       "    .dataframe tbody tr th:only-of-type {\n",
       "        vertical-align: middle;\n",
       "    }\n",
       "\n",
       "    .dataframe tbody tr th {\n",
       "        vertical-align: top;\n",
       "    }\n",
       "\n",
       "    .dataframe thead th {\n",
       "        text-align: right;\n",
       "    }\n",
       "</style>\n",
       "<table border=\"1\" class=\"dataframe\">\n",
       "  <thead>\n",
       "    <tr style=\"text-align: right;\">\n",
       "      <th></th>\n",
       "      <th>Date</th>\n",
       "      <th>Avg VTAT</th>\n",
       "      <th>Avg CTAT</th>\n",
       "      <th>Cancelled Rides by Customer</th>\n",
       "      <th>Reason for cancelling by Customer</th>\n",
       "      <th>Cancelled Rides by Driver</th>\n",
       "      <th>Driver Cancellation Reason</th>\n",
       "      <th>Incomplete Rides</th>\n",
       "      <th>Incomplete Rides Reason</th>\n",
       "      <th>Booking Value</th>\n",
       "      <th>Ride Distance</th>\n",
       "      <th>Driver Ratings</th>\n",
       "      <th>Customer Rating</th>\n",
       "    </tr>\n",
       "  </thead>\n",
       "  <tbody>\n",
       "    <tr>\n",
       "      <th>6394</th>\n",
       "      <td>2024-03-26</td>\n",
       "      <td>5.9</td>\n",
       "      <td>21.1</td>\n",
       "      <td>NaN</td>\n",
       "      <td>NaN</td>\n",
       "      <td>NaN</td>\n",
       "      <td>NaN</td>\n",
       "      <td>NaN</td>\n",
       "      <td>NaN</td>\n",
       "      <td>110.0</td>\n",
       "      <td>8.86</td>\n",
       "      <td>4.9</td>\n",
       "      <td>3.1</td>\n",
       "    </tr>\n",
       "    <tr>\n",
       "      <th>10144</th>\n",
       "      <td>2024-03-02</td>\n",
       "      <td>11.0</td>\n",
       "      <td>36.3</td>\n",
       "      <td>NaN</td>\n",
       "      <td>NaN</td>\n",
       "      <td>NaN</td>\n",
       "      <td>NaN</td>\n",
       "      <td>NaN</td>\n",
       "      <td>NaN</td>\n",
       "      <td>648.0</td>\n",
       "      <td>21.57</td>\n",
       "      <td>3.2</td>\n",
       "      <td>4.3</td>\n",
       "    </tr>\n",
       "    <tr>\n",
       "      <th>11021</th>\n",
       "      <td>2024-01-07</td>\n",
       "      <td>15.0</td>\n",
       "      <td>23.2</td>\n",
       "      <td>NaN</td>\n",
       "      <td>NaN</td>\n",
       "      <td>NaN</td>\n",
       "      <td>NaN</td>\n",
       "      <td>NaN</td>\n",
       "      <td>NaN</td>\n",
       "      <td>260.0</td>\n",
       "      <td>46.48</td>\n",
       "      <td>4.2</td>\n",
       "      <td>4.5</td>\n",
       "    </tr>\n",
       "    <tr>\n",
       "      <th>15165</th>\n",
       "      <td>2024-07-30</td>\n",
       "      <td>10.1</td>\n",
       "      <td>27.2</td>\n",
       "      <td>NaN</td>\n",
       "      <td>NaN</td>\n",
       "      <td>NaN</td>\n",
       "      <td>NaN</td>\n",
       "      <td>NaN</td>\n",
       "      <td>NaN</td>\n",
       "      <td>754.0</td>\n",
       "      <td>16.42</td>\n",
       "      <td>4.3</td>\n",
       "      <td>4.2</td>\n",
       "    </tr>\n",
       "    <tr>\n",
       "      <th>15331</th>\n",
       "      <td>2024-02-12</td>\n",
       "      <td>13.3</td>\n",
       "      <td>20.1</td>\n",
       "      <td>NaN</td>\n",
       "      <td>NaN</td>\n",
       "      <td>NaN</td>\n",
       "      <td>NaN</td>\n",
       "      <td>NaN</td>\n",
       "      <td>NaN</td>\n",
       "      <td>338.0</td>\n",
       "      <td>26.90</td>\n",
       "      <td>3.3</td>\n",
       "      <td>4.8</td>\n",
       "    </tr>\n",
       "    <tr>\n",
       "      <th>...</th>\n",
       "      <td>...</td>\n",
       "      <td>...</td>\n",
       "      <td>...</td>\n",
       "      <td>...</td>\n",
       "      <td>...</td>\n",
       "      <td>...</td>\n",
       "      <td>...</td>\n",
       "      <td>...</td>\n",
       "      <td>...</td>\n",
       "      <td>...</td>\n",
       "      <td>...</td>\n",
       "      <td>...</td>\n",
       "      <td>...</td>\n",
       "    </tr>\n",
       "    <tr>\n",
       "      <th>149106</th>\n",
       "      <td>2024-01-17</td>\n",
       "      <td>6.0</td>\n",
       "      <td>37.1</td>\n",
       "      <td>NaN</td>\n",
       "      <td>NaN</td>\n",
       "      <td>NaN</td>\n",
       "      <td>NaN</td>\n",
       "      <td>NaN</td>\n",
       "      <td>NaN</td>\n",
       "      <td>612.0</td>\n",
       "      <td>27.07</td>\n",
       "      <td>3.9</td>\n",
       "      <td>4.8</td>\n",
       "    </tr>\n",
       "    <tr>\n",
       "      <th>149842</th>\n",
       "      <td>2024-09-19</td>\n",
       "      <td>13.9</td>\n",
       "      <td>26.6</td>\n",
       "      <td>NaN</td>\n",
       "      <td>NaN</td>\n",
       "      <td>NaN</td>\n",
       "      <td>NaN</td>\n",
       "      <td>NaN</td>\n",
       "      <td>NaN</td>\n",
       "      <td>153.0</td>\n",
       "      <td>30.19</td>\n",
       "      <td>4.6</td>\n",
       "      <td>4.3</td>\n",
       "    </tr>\n",
       "    <tr>\n",
       "      <th>149895</th>\n",
       "      <td>2024-11-07</td>\n",
       "      <td>4.8</td>\n",
       "      <td>18.4</td>\n",
       "      <td>NaN</td>\n",
       "      <td>NaN</td>\n",
       "      <td>NaN</td>\n",
       "      <td>NaN</td>\n",
       "      <td>NaN</td>\n",
       "      <td>NaN</td>\n",
       "      <td>93.0</td>\n",
       "      <td>27.65</td>\n",
       "      <td>4.5</td>\n",
       "      <td>3.9</td>\n",
       "    </tr>\n",
       "    <tr>\n",
       "      <th>149935</th>\n",
       "      <td>2024-08-29</td>\n",
       "      <td>7.6</td>\n",
       "      <td>21.4</td>\n",
       "      <td>NaN</td>\n",
       "      <td>NaN</td>\n",
       "      <td>NaN</td>\n",
       "      <td>NaN</td>\n",
       "      <td>NaN</td>\n",
       "      <td>NaN</td>\n",
       "      <td>381.0</td>\n",
       "      <td>36.83</td>\n",
       "      <td>4.5</td>\n",
       "      <td>4.6</td>\n",
       "    </tr>\n",
       "    <tr>\n",
       "      <th>149944</th>\n",
       "      <td>2024-01-10</td>\n",
       "      <td>4.5</td>\n",
       "      <td>32.8</td>\n",
       "      <td>NaN</td>\n",
       "      <td>NaN</td>\n",
       "      <td>NaN</td>\n",
       "      <td>NaN</td>\n",
       "      <td>NaN</td>\n",
       "      <td>NaN</td>\n",
       "      <td>140.0</td>\n",
       "      <td>44.94</td>\n",
       "      <td>4.1</td>\n",
       "      <td>3.9</td>\n",
       "    </tr>\n",
       "  </tbody>\n",
       "</table>\n",
       "<p>285 rows × 13 columns</p>\n",
       "</div>"
      ],
      "text/plain": [
       "             Date  Avg VTAT  Avg CTAT  Cancelled Rides by Customer  \\\n",
       "6394   2024-03-26       5.9      21.1                          NaN   \n",
       "10144  2024-03-02      11.0      36.3                          NaN   \n",
       "11021  2024-01-07      15.0      23.2                          NaN   \n",
       "15165  2024-07-30      10.1      27.2                          NaN   \n",
       "15331  2024-02-12      13.3      20.1                          NaN   \n",
       "...           ...       ...       ...                          ...   \n",
       "149106 2024-01-17       6.0      37.1                          NaN   \n",
       "149842 2024-09-19      13.9      26.6                          NaN   \n",
       "149895 2024-11-07       4.8      18.4                          NaN   \n",
       "149935 2024-08-29       7.6      21.4                          NaN   \n",
       "149944 2024-01-10       4.5      32.8                          NaN   \n",
       "\n",
       "       Reason for cancelling by Customer  Cancelled Rides by Driver  \\\n",
       "6394                                 NaN                        NaN   \n",
       "10144                                NaN                        NaN   \n",
       "11021                                NaN                        NaN   \n",
       "15165                                NaN                        NaN   \n",
       "15331                                NaN                        NaN   \n",
       "...                                  ...                        ...   \n",
       "149106                               NaN                        NaN   \n",
       "149842                               NaN                        NaN   \n",
       "149895                               NaN                        NaN   \n",
       "149935                               NaN                        NaN   \n",
       "149944                               NaN                        NaN   \n",
       "\n",
       "       Driver Cancellation Reason  Incomplete Rides Incomplete Rides Reason  \\\n",
       "6394                          NaN               NaN                     NaN   \n",
       "10144                         NaN               NaN                     NaN   \n",
       "11021                         NaN               NaN                     NaN   \n",
       "15165                         NaN               NaN                     NaN   \n",
       "15331                         NaN               NaN                     NaN   \n",
       "...                           ...               ...                     ...   \n",
       "149106                        NaN               NaN                     NaN   \n",
       "149842                        NaN               NaN                     NaN   \n",
       "149895                        NaN               NaN                     NaN   \n",
       "149935                        NaN               NaN                     NaN   \n",
       "149944                        NaN               NaN                     NaN   \n",
       "\n",
       "        Booking Value  Ride Distance  Driver Ratings  Customer Rating  \n",
       "6394            110.0           8.86             4.9              3.1  \n",
       "10144           648.0          21.57             3.2              4.3  \n",
       "11021           260.0          46.48             4.2              4.5  \n",
       "15165           754.0          16.42             4.3              4.2  \n",
       "15331           338.0          26.90             3.3              4.8  \n",
       "...               ...            ...             ...              ...  \n",
       "149106          612.0          27.07             3.9              4.8  \n",
       "149842          153.0          30.19             4.6              4.3  \n",
       "149895           93.0          27.65             4.5              3.9  \n",
       "149935          381.0          36.83             4.5              4.6  \n",
       "149944          140.0          44.94             4.1              3.9  \n",
       "\n",
       "[285 rows x 13 columns]"
      ]
     },
     "execution_count": 21,
     "metadata": {},
     "output_type": "execute_result"
    }
   ],
   "source": [
    "df.loc[df.duplicated(subset=['Date', 'Avg VTAT', 'Avg CTAT', 'Cancelled Rides by Customer',\n",
    "       'Reason for cancelling by Customer', 'Cancelled Rides by Driver',\n",
    "       'Driver Cancellation Reason', 'Incomplete Rides',\n",
    "       'Incomplete Rides Reason'])]"
   ]
  },
  {
   "cell_type": "code",
   "execution_count": 22,
   "id": "79333660",
   "metadata": {
    "execution": {
     "iopub.execute_input": "2025-08-17T14:51:14.321734Z",
     "iopub.status.busy": "2025-08-17T14:51:14.321414Z",
     "iopub.status.idle": "2025-08-17T14:51:14.358636Z",
     "shell.execute_reply": "2025-08-17T14:51:14.357831Z"
    },
    "papermill": {
     "duration": 0.049372,
     "end_time": "2025-08-17T14:51:14.360282",
     "exception": false,
     "start_time": "2025-08-17T14:51:14.310910",
     "status": "completed"
    },
    "tags": []
   },
   "outputs": [],
   "source": [
    "df = df.loc[~df.duplicated(subset=['Date','Booking Value', 'Ride Distance','Driver Ratings', 'Customer Rating'])] \\\n",
    "    .reset_index(drop=True).copy()"
   ]
  },
  {
   "cell_type": "code",
   "execution_count": 23,
   "id": "91eb4755",
   "metadata": {
    "execution": {
     "iopub.execute_input": "2025-08-17T14:51:14.381959Z",
     "iopub.status.busy": "2025-08-17T14:51:14.381644Z",
     "iopub.status.idle": "2025-08-17T14:51:14.427468Z",
     "shell.execute_reply": "2025-08-17T14:51:14.426180Z"
    },
    "papermill": {
     "duration": 0.058304,
     "end_time": "2025-08-17T14:51:14.429551",
     "exception": false,
     "start_time": "2025-08-17T14:51:14.371247",
     "status": "completed"
    },
    "tags": []
   },
   "outputs": [],
   "source": [
    "df = df.loc[~df.duplicated(subset=['Date', 'Avg VTAT', 'Avg CTAT', 'Cancelled Rides by Customer',\n",
    "       'Reason for cancelling by Customer', 'Cancelled Rides by Driver',\n",
    "       'Driver Cancellation Reason', 'Incomplete Rides',\n",
    "       'Incomplete Rides Reason'])] \\\n",
    "    .reset_index(drop=True).copy()"
   ]
  },
  {
   "cell_type": "code",
   "execution_count": 24,
   "id": "d2c6796d",
   "metadata": {
    "execution": {
     "iopub.execute_input": "2025-08-17T14:51:14.449343Z",
     "iopub.status.busy": "2025-08-17T14:51:14.448993Z",
     "iopub.status.idle": "2025-08-17T14:51:14.455035Z",
     "shell.execute_reply": "2025-08-17T14:51:14.453805Z"
    },
    "papermill": {
     "duration": 0.01764,
     "end_time": "2025-08-17T14:51:14.456505",
     "exception": false,
     "start_time": "2025-08-17T14:51:14.438865",
     "status": "completed"
    },
    "tags": []
   },
   "outputs": [
    {
     "data": {
      "text/plain": [
       "(102080, 13)"
      ]
     },
     "execution_count": 24,
     "metadata": {},
     "output_type": "execute_result"
    }
   ],
   "source": [
    "df.shape"
   ]
  },
  {
   "cell_type": "markdown",
   "id": "ace556ce",
   "metadata": {
    "papermill": {
     "duration": 0.009437,
     "end_time": "2025-08-17T14:51:14.475251",
     "exception": false,
     "start_time": "2025-08-17T14:51:14.465814",
     "status": "completed"
    },
    "tags": []
   },
   "source": [
    "# **FEATURE UNDERSTANDING**"
   ]
  },
  {
   "cell_type": "code",
   "execution_count": 25,
   "id": "d4b6d8e7",
   "metadata": {
    "execution": {
     "iopub.execute_input": "2025-08-17T14:51:14.495101Z",
     "iopub.status.busy": "2025-08-17T14:51:14.494767Z",
     "iopub.status.idle": "2025-08-17T14:51:14.504850Z",
     "shell.execute_reply": "2025-08-17T14:51:14.503952Z"
    },
    "papermill": {
     "duration": 0.022104,
     "end_time": "2025-08-17T14:51:14.506662",
     "exception": false,
     "start_time": "2025-08-17T14:51:14.484558",
     "status": "completed"
    },
    "tags": []
   },
   "outputs": [
    {
     "data": {
      "text/plain": [
       "Reason for cancelling by Customer\n",
       "Driver is not moving towards pickup location    19\n",
       "Driver asked to cancel                          17\n",
       "Wrong Address                                   16\n",
       "AC is not working                               14\n",
       "Change of plans                                 14\n",
       "Name: count, dtype: int64"
      ]
     },
     "execution_count": 25,
     "metadata": {},
     "output_type": "execute_result"
    }
   ],
   "source": [
    "df['Reason for cancelling by Customer'].value_counts()"
   ]
  },
  {
   "cell_type": "code",
   "execution_count": 26,
   "id": "ebfedab6",
   "metadata": {
    "execution": {
     "iopub.execute_input": "2025-08-17T14:51:14.526877Z",
     "iopub.status.busy": "2025-08-17T14:51:14.526568Z",
     "iopub.status.idle": "2025-08-17T14:51:14.997544Z",
     "shell.execute_reply": "2025-08-17T14:51:14.996591Z"
    },
    "papermill": {
     "duration": 0.482948,
     "end_time": "2025-08-17T14:51:14.999064",
     "exception": false,
     "start_time": "2025-08-17T14:51:14.516116",
     "status": "completed"
    },
    "tags": []
   },
   "outputs": [
    {
     "data": {
      "text/plain": [
       "Text(0, 0.5, 'Reason for cancelling by Customer')"
      ]
     },
     "execution_count": 26,
     "metadata": {},
     "output_type": "execute_result"
    },
    {
     "data": {
      "image/png": "[encoded data removed]",
      "text/plain": [
       "<Figure size 640x480 with 1 Axes>"
      ]
     },
     "metadata": {},
     "output_type": "display_data"
    }
   ],
   "source": [
    "ax = df['Reason for cancelling by Customer'].value_counts() \\\n",
    "    .plot(kind='barh', title='5 Reasons Customers Cancel their Uber Ride')\n",
    "ax.set_xlabel(\"Frequency\")\n",
    "ax.set_ylabel(\"Reason for cancelling by Customer\")"
   ]
  },
  {
   "cell_type": "code",
   "execution_count": 27,
   "id": "570e866b",
   "metadata": {
    "execution": {
     "iopub.execute_input": "2025-08-17T14:51:15.021549Z",
     "iopub.status.busy": "2025-08-17T14:51:15.021210Z",
     "iopub.status.idle": "2025-08-17T14:51:15.031102Z",
     "shell.execute_reply": "2025-08-17T14:51:15.030310Z"
    },
    "papermill": {
     "duration": 0.02268,
     "end_time": "2025-08-17T14:51:15.032839",
     "exception": false,
     "start_time": "2025-08-17T14:51:15.010159",
     "status": "completed"
    },
    "tags": []
   },
   "outputs": [
    {
     "data": {
      "text/plain": [
       "Driver Cancellation Reason\n",
       "Personal & Car related issues          57\n",
       "The customer was coughing/sick         53\n",
       "More than permitted people in there    49\n",
       "Customer related issue                 46\n",
       "Name: count, dtype: int64"
      ]
     },
     "execution_count": 27,
     "metadata": {},
     "output_type": "execute_result"
    }
   ],
   "source": [
    "df['Driver Cancellation Reason'].value_counts()"
   ]
  },
  {
   "cell_type": "code",
   "execution_count": 28,
   "id": "6181fc61",
   "metadata": {
    "execution": {
     "iopub.execute_input": "2025-08-17T14:51:15.054892Z",
     "iopub.status.busy": "2025-08-17T14:51:15.054559Z",
     "iopub.status.idle": "2025-08-17T14:51:15.263624Z",
     "shell.execute_reply": "2025-08-17T14:51:15.262622Z"
    },
    "papermill": {
     "duration": 0.221769,
     "end_time": "2025-08-17T14:51:15.265225",
     "exception": false,
     "start_time": "2025-08-17T14:51:15.043456",
     "status": "completed"
    },
    "tags": []
   },
   "outputs": [
    {
     "data": {
      "text/plain": [
       "Text(0, 0.5, 'Reason for cancelling by Driver')"
      ]
     },
     "execution_count": 28,
     "metadata": {},
     "output_type": "execute_result"
    },
    {
     "data": {
      "image/png": "[encoded data removed]",
      "text/plain": [
       "<Figure size 640x480 with 1 Axes>"
      ]
     },
     "metadata": {},
     "output_type": "display_data"
    }
   ],
   "source": [
    "ax = df['Driver Cancellation Reason'].value_counts() \\\n",
    "    .plot(kind='barh', title='4 Reasons Uber Drivers Cancel')\n",
    "ax.set_xlabel(\"Frequency\")\n",
    "ax.set_ylabel(\"Reason for cancelling by Driver\")"
   ]
  },
  {
   "cell_type": "code",
   "execution_count": 29,
   "id": "5d85353d",
   "metadata": {
    "execution": {
     "iopub.execute_input": "2025-08-17T14:51:15.288958Z",
     "iopub.status.busy": "2025-08-17T14:51:15.288625Z",
     "iopub.status.idle": "2025-08-17T14:51:15.299141Z",
     "shell.execute_reply": "2025-08-17T14:51:15.298156Z"
    },
    "papermill": {
     "duration": 0.024182,
     "end_time": "2025-08-17T14:51:15.300777",
     "exception": false,
     "start_time": "2025-08-17T14:51:15.276595",
     "status": "completed"
    },
    "tags": []
   },
   "outputs": [
    {
     "data": {
      "text/plain": [
       "Incomplete Rides Reason\n",
       "Customer Demand      3039\n",
       "Vehicle Breakdown    3012\n",
       "Other Issue          2948\n",
       "Name: count, dtype: int64"
      ]
     },
     "execution_count": 29,
     "metadata": {},
     "output_type": "execute_result"
    }
   ],
   "source": [
    "df['Incomplete Rides Reason'].value_counts()"
   ]
  },
  {
   "cell_type": "code",
   "execution_count": 30,
   "id": "852c9555",
   "metadata": {
    "execution": {
     "iopub.execute_input": "2025-08-17T14:51:15.325806Z",
     "iopub.status.busy": "2025-08-17T14:51:15.325475Z",
     "iopub.status.idle": "2025-08-17T14:51:15.514324Z",
     "shell.execute_reply": "2025-08-17T14:51:15.513224Z"
    },
    "papermill": {
     "duration": 0.203754,
     "end_time": "2025-08-17T14:51:15.515940",
     "exception": false,
     "start_time": "2025-08-17T14:51:15.312186",
     "status": "completed"
    },
    "tags": []
   },
   "outputs": [
    {
     "data": {
      "text/plain": [
       "Text(0, 0.5, 'Reason for incomplete ride')"
      ]
     },
     "execution_count": 30,
     "metadata": {},
     "output_type": "execute_result"
    },
    {
     "data": {
      "image/png": "[encoded data removed]",
      "text/plain": [
       "<Figure size 640x480 with 1 Axes>"
      ]
     },
     "metadata": {},
     "output_type": "display_data"
    }
   ],
   "source": [
    "ax = df['Incomplete Rides Reason'].value_counts() \\\n",
    "    .plot(kind='barh', title='3 Reasons Uber Ride was incomplete')\n",
    "ax.set_xlabel(\"Frequency\")\n",
    "ax.set_ylabel(\"Reason for incomplete ride\")"
   ]
  },
  {
   "cell_type": "code",
   "execution_count": 31,
   "id": "9289018a",
   "metadata": {
    "execution": {
     "iopub.execute_input": "2025-08-17T14:51:15.540957Z",
     "iopub.status.busy": "2025-08-17T14:51:15.540628Z",
     "iopub.status.idle": "2025-08-17T14:51:15.910090Z",
     "shell.execute_reply": "2025-08-17T14:51:15.909137Z"
    },
    "papermill": {
     "duration": 0.383976,
     "end_time": "2025-08-17T14:51:15.911671",
     "exception": false,
     "start_time": "2025-08-17T14:51:15.527695",
     "status": "completed"
    },
    "tags": []
   },
   "outputs": [
    {
     "data": {
      "text/plain": [
       "Text(0.5, 0, 'Rating')"
      ]
     },
     "execution_count": 31,
     "metadata": {},
     "output_type": "execute_result"
    },
    {
     "data": {
      "image/png": "[encoded data removed]",
      "text/plain": [
       "<Figure size 640x480 with 1 Axes>"
      ]
     },
     "metadata": {},
     "output_type": "display_data"
    }
   ],
   "source": [
    "ax = df['Driver Ratings'].plot(kind='hist',\n",
    "                       bins = 100,\n",
    "                       title='Rating on Uber Drivers for the year 2024')\n",
    "ax.set_xlabel('Rating')"
   ]
  },
  {
   "cell_type": "code",
   "execution_count": 32,
   "id": "e911bee9",
   "metadata": {
    "execution": {
     "iopub.execute_input": "2025-08-17T14:51:15.938104Z",
     "iopub.status.busy": "2025-08-17T14:51:15.937734Z",
     "iopub.status.idle": "2025-08-17T14:51:17.990284Z",
     "shell.execute_reply": "2025-08-17T14:51:17.989114Z"
    },
    "papermill": {
     "duration": 2.068107,
     "end_time": "2025-08-17T14:51:17.992063",
     "exception": false,
     "start_time": "2025-08-17T14:51:15.923956",
     "status": "completed"
    },
    "tags": []
   },
   "outputs": [
    {
     "data": {
      "text/plain": [
       "Text(0.5, 0, 'Rating')"
      ]
     },
     "execution_count": 32,
     "metadata": {},
     "output_type": "execute_result"
    },
    {
     "data": {
      "image/png": "[encoded data removed]",
      "text/plain": [
       "<Figure size 640x480 with 1 Axes>"
      ]
     },
     "metadata": {},
     "output_type": "display_data"
    }
   ],
   "source": [
    "ax = df['Driver Ratings'].plot(kind='kde',\n",
    "                               title='Rating on Uber Drivers for the year 2024')\n",
    "ax.set_xlabel('Rating')"
   ]
  },
  {
   "cell_type": "code",
   "execution_count": 33,
   "id": "26b8f7e2",
   "metadata": {
    "execution": {
     "iopub.execute_input": "2025-08-17T14:51:18.019659Z",
     "iopub.status.busy": "2025-08-17T14:51:18.019375Z",
     "iopub.status.idle": "2025-08-17T14:51:18.375718Z",
     "shell.execute_reply": "2025-08-17T14:51:18.374782Z"
    },
    "papermill": {
     "duration": 0.371773,
     "end_time": "2025-08-17T14:51:18.377243",
     "exception": false,
     "start_time": "2025-08-17T14:51:18.005470",
     "status": "completed"
    },
    "tags": []
   },
   "outputs": [
    {
     "data": {
      "text/plain": [
       "Text(0.5, 0, 'Rating')"
      ]
     },
     "execution_count": 33,
     "metadata": {},
     "output_type": "execute_result"
    },
    {
     "data": {
      "image/png": "[encoded data removed]",
      "text/plain": [
       "<Figure size 640x480 with 1 Axes>"
      ]
     },
     "metadata": {},
     "output_type": "display_data"
    }
   ],
   "source": [
    "ax = df['Customer Rating'].plot(kind='hist',\n",
    "                       bins = 100,\n",
    "                       title='Rating on Uber Customer for the year 2024')\n",
    "ax.set_xlabel('Rating')"
   ]
  },
  {
   "cell_type": "code",
   "execution_count": 34,
   "id": "3c5cdad6",
   "metadata": {
    "execution": {
     "iopub.execute_input": "2025-08-17T14:51:18.408876Z",
     "iopub.status.busy": "2025-08-17T14:51:18.408556Z",
     "iopub.status.idle": "2025-08-17T14:51:20.457353Z",
     "shell.execute_reply": "2025-08-17T14:51:20.456427Z"
    },
    "papermill": {
     "duration": 2.067675,
     "end_time": "2025-08-17T14:51:20.459270",
     "exception": false,
     "start_time": "2025-08-17T14:51:18.391595",
     "status": "completed"
    },
    "tags": []
   },
   "outputs": [
    {
     "data": {
      "text/plain": [
       "Text(0.5, 0, 'Rating')"
      ]
     },
     "execution_count": 34,
     "metadata": {},
     "output_type": "execute_result"
    },
    {
     "data": {
      "image/png": "[encoded data removed]",
      "text/plain": [
       "<Figure size 640x480 with 1 Axes>"
      ]
     },
     "metadata": {},
     "output_type": "display_data"
    }
   ],
   "source": [
    "ax = df['Customer Rating'].plot(kind='kde',\n",
    "                                title='Rating on Uber Customer for the year 2024')\n",
    "ax.set_xlabel('Rating')"
   ]
  },
  {
   "cell_type": "markdown",
   "id": "b8594635",
   "metadata": {
    "papermill": {
     "duration": 0.014164,
     "end_time": "2025-08-17T14:51:20.488196",
     "exception": false,
     "start_time": "2025-08-17T14:51:20.474032",
     "status": "completed"
    },
    "tags": []
   },
   "source": [
    "# **FEATURE RELATIONSHIP**"
   ]
  },
  {
   "cell_type": "code",
   "execution_count": 35,
   "id": "81649cbc",
   "metadata": {
    "execution": {
     "iopub.execute_input": "2025-08-17T14:51:20.518601Z",
     "iopub.status.busy": "2025-08-17T14:51:20.518229Z",
     "iopub.status.idle": "2025-08-17T14:51:20.524008Z",
     "shell.execute_reply": "2025-08-17T14:51:20.523169Z"
    },
    "papermill": {
     "duration": 0.022761,
     "end_time": "2025-08-17T14:51:20.525502",
     "exception": false,
     "start_time": "2025-08-17T14:51:20.502741",
     "status": "completed"
    },
    "tags": []
   },
   "outputs": [
    {
     "data": {
      "text/plain": [
       "Index(['Date', 'Avg VTAT', 'Avg CTAT', 'Cancelled Rides by Customer',\n",
       "       'Reason for cancelling by Customer', 'Cancelled Rides by Driver',\n",
       "       'Driver Cancellation Reason', 'Incomplete Rides',\n",
       "       'Incomplete Rides Reason', 'Booking Value', 'Ride Distance',\n",
       "       'Driver Ratings', 'Customer Rating'],\n",
       "      dtype='object')"
      ]
     },
     "execution_count": 35,
     "metadata": {},
     "output_type": "execute_result"
    }
   ],
   "source": [
    "df.columns"
   ]
  },
  {
   "cell_type": "code",
   "execution_count": 36,
   "id": "4d19170a",
   "metadata": {
    "execution": {
     "iopub.execute_input": "2025-08-17T14:51:20.557324Z",
     "iopub.status.busy": "2025-08-17T14:51:20.556854Z",
     "iopub.status.idle": "2025-08-17T14:51:20.935249Z",
     "shell.execute_reply": "2025-08-17T14:51:20.934268Z"
    },
    "papermill": {
     "duration": 0.396097,
     "end_time": "2025-08-17T14:51:20.936978",
     "exception": false,
     "start_time": "2025-08-17T14:51:20.540881",
     "status": "completed"
    },
    "tags": []
   },
   "outputs": [
    {
     "data": {
      "image/png": "[encoded data removed]",
      "text/plain": [
       "<Figure size 640x480 with 1 Axes>"
      ]
     },
     "metadata": {},
     "output_type": "display_data"
    }
   ],
   "source": [
    "df.plot(kind='scatter',\n",
    "        x='Booking Value',\n",
    "        y='Customer Rating',\n",
    "        title='Booking Value vs. Driver Rating')\n",
    "plt.show()"
   ]
  },
  {
   "cell_type": "code",
   "execution_count": 37,
   "id": "111f81a3",
   "metadata": {
    "execution": {
     "iopub.execute_input": "2025-08-17T14:51:20.971510Z",
     "iopub.status.busy": "2025-08-17T14:51:20.970947Z",
     "iopub.status.idle": "2025-08-17T14:51:21.328493Z",
     "shell.execute_reply": "2025-08-17T14:51:21.327542Z"
    },
    "papermill": {
     "duration": 0.377078,
     "end_time": "2025-08-17T14:51:21.330637",
     "exception": false,
     "start_time": "2025-08-17T14:51:20.953559",
     "status": "completed"
    },
    "tags": []
   },
   "outputs": [
    {
     "data": {
      "image/png": "[encoded data removed]",
      "text/plain": [
       "<Figure size 640x480 with 1 Axes>"
      ]
     },
     "metadata": {},
     "output_type": "display_data"
    }
   ],
   "source": [
    "df.plot(kind='scatter',\n",
    "        x='Booking Value',\n",
    "        y='Ride Distance',\n",
    "        title='Customer Arrival Time vs. Vehicle Arrival Time')\n",
    "plt.show()"
   ]
  },
  {
   "cell_type": "code",
   "execution_count": 38,
   "id": "e4148b3b",
   "metadata": {
    "execution": {
     "iopub.execute_input": "2025-08-17T14:51:21.366460Z",
     "iopub.status.busy": "2025-08-17T14:51:21.366130Z",
     "iopub.status.idle": "2025-08-17T14:51:21.391127Z",
     "shell.execute_reply": "2025-08-17T14:51:21.389778Z"
    },
    "papermill": {
     "duration": 0.046532,
     "end_time": "2025-08-17T14:51:21.394011",
     "exception": false,
     "start_time": "2025-08-17T14:51:21.347479",
     "status": "completed"
    },
    "tags": []
   },
   "outputs": [
    {
     "data": {
      "text/html": [
       "<div>\n",
       "<style scoped>\n",
       "    .dataframe tbody tr th:only-of-type {\n",
       "        vertical-align: middle;\n",
       "    }\n",
       "\n",
       "    .dataframe tbody tr th {\n",
       "        vertical-align: top;\n",
       "    }\n",
       "\n",
       "    .dataframe thead th {\n",
       "        text-align: right;\n",
       "    }\n",
       "</style>\n",
       "<table border=\"1\" class=\"dataframe\">\n",
       "  <thead>\n",
       "    <tr style=\"text-align: right;\">\n",
       "      <th></th>\n",
       "      <th>Avg VTAT</th>\n",
       "      <th>Customer Rating</th>\n",
       "      <th>Avg CTAT</th>\n",
       "      <th>Driver Ratings</th>\n",
       "    </tr>\n",
       "  </thead>\n",
       "  <tbody>\n",
       "    <tr>\n",
       "      <th>Avg VTAT</th>\n",
       "      <td>1.000000</td>\n",
       "      <td>-0.004228</td>\n",
       "      <td>0.001528</td>\n",
       "      <td>-0.005381</td>\n",
       "    </tr>\n",
       "    <tr>\n",
       "      <th>Customer Rating</th>\n",
       "      <td>-0.004228</td>\n",
       "      <td>1.000000</td>\n",
       "      <td>0.001324</td>\n",
       "      <td>-0.000812</td>\n",
       "    </tr>\n",
       "    <tr>\n",
       "      <th>Avg CTAT</th>\n",
       "      <td>0.001528</td>\n",
       "      <td>0.001324</td>\n",
       "      <td>1.000000</td>\n",
       "      <td>0.000878</td>\n",
       "    </tr>\n",
       "    <tr>\n",
       "      <th>Driver Ratings</th>\n",
       "      <td>-0.005381</td>\n",
       "      <td>-0.000812</td>\n",
       "      <td>0.000878</td>\n",
       "      <td>1.000000</td>\n",
       "    </tr>\n",
       "  </tbody>\n",
       "</table>\n",
       "</div>"
      ],
      "text/plain": [
       "                 Avg VTAT  Customer Rating  Avg CTAT  Driver Ratings\n",
       "Avg VTAT         1.000000        -0.004228  0.001528       -0.005381\n",
       "Customer Rating -0.004228         1.000000  0.001324       -0.000812\n",
       "Avg CTAT         0.001528         0.001324  1.000000        0.000878\n",
       "Driver Ratings  -0.005381        -0.000812  0.000878        1.000000"
      ]
     },
     "execution_count": 38,
     "metadata": {},
     "output_type": "execute_result"
    }
   ],
   "source": [
    "df_corr = df[['Avg VTAT','Customer Rating','Avg CTAT','Driver Ratings']].dropna().corr()\n",
    "df_corr"
   ]
  },
  {
   "cell_type": "code",
   "execution_count": 39,
   "id": "454ac149",
   "metadata": {
    "execution": {
     "iopub.execute_input": "2025-08-17T14:51:21.430938Z",
     "iopub.status.busy": "2025-08-17T14:51:21.430508Z",
     "iopub.status.idle": "2025-08-17T14:51:21.698786Z",
     "shell.execute_reply": "2025-08-17T14:51:21.697770Z"
    },
    "papermill": {
     "duration": 0.288767,
     "end_time": "2025-08-17T14:51:21.700498",
     "exception": false,
     "start_time": "2025-08-17T14:51:21.411731",
     "status": "completed"
    },
    "tags": []
   },
   "outputs": [
    {
     "data": {
      "text/plain": [
       "<Axes: >"
      ]
     },
     "execution_count": 39,
     "metadata": {},
     "output_type": "execute_result"
    },
    {
     "data": {
      "image/png": "[encoded data removed]",
      "text/plain": [
       "<Figure size 640x480 with 2 Axes>"
      ]
     },
     "metadata": {},
     "output_type": "display_data"
    }
   ],
   "source": [
    "sns.heatmap(df_corr, annot=True)"
   ]
  },
  {
   "cell_type": "code",
   "execution_count": null,
   "id": "50671aac",
   "metadata": {
    "papermill": {
     "duration": 0.01721,
     "end_time": "2025-08-17T14:51:21.735747",
     "exception": false,
     "start_time": "2025-08-17T14:51:21.718537",
     "status": "completed"
    },
    "tags": []
   },
   "outputs": [],
   "source": []
  }
 ],
 "metadata": {
  "kaggle": {
   "accelerator": "none",
   "dataSources": [
    {
     "datasetId": 8032385,
     "sourceId": 12709507,
     "sourceType": "datasetVersion"
    }
   ],
   "dockerImageVersionId": 31089,
   "isGpuEnabled": false,
   "isInternetEnabled": false,
   "language": "python",
   "sourceType": "notebook"
  },
  "kernelspec": {
   "display_name": "Python 3",
   "language": "python",
   "name": "python3"
  },
  "language_info": {
   "codemirror_mode": {
    "name": "ipython",
    "version": 3
   },
   "file_extension": ".py",
   "mimetype": "text/x-python",
   "name": "python",
   "nbconvert_exporter": "python",
   "pygments_lexer": "ipython3",
   "version": "3.11.13"
  },
  "papermill": {
   "default_parameters": {},
   "duration": 19.61068,
   "end_time": "2025-08-17T14:51:22.574467",
   "environment_variables": {},
   "exception": null,
   "input_path": "__notebook__.ipynb",
   "output_path": "__notebook__.ipynb",
   "parameters": {},
   "start_time": "2025-08-17T14:51:02.963787",
   "version": "2.6.0"
  }
 },
 "nbformat": 4,
 "nbformat_minor": 5
}
